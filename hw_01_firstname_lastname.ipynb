{
 "cells": [
  {
   "cell_type": "markdown",
   "metadata": {},
   "source": [
    "## **Homework: Google Colab & Online Resource Scavenger Hunt**\n",
    "### *Application of using Google Colab and finding online resources*\n",
    "   \n",
    "   \n",
    "### DS 1002:Programming for Data Science\n",
    "### University of Virginia\n",
    "### Last Reviewed: Aug 24, 2023\n",
    "---"
   ]
  },
  {
   "cell_type": "markdown",
   "metadata": {},
   "source": [
    "### Objectives: \n",
    "- Procatice with Google Colab\n",
    "- Practice searching for coding help on the internet\n",
    "- Practice uploading a Colab notebook to Gradescope\n",
    "\n",
    "### Executive Summary\n",
    "\n",
    "- We will start this homework in class in pairs. What you don't complete in class will be completed on your own. \n",
    "- Everyone will submit their own file. \n",
    "- This homework is ungraded. You will be award points for completion. \n",
    "- Follow the prompts below. Respond in a subsquent code chunk (code or markdown, whichever is applicable)\n",
    "\n",
    "---  \n",
    "\n",
    "**TOTAL POINTS: 10**  \n",
    "RUBRIC  \n",
    "\n",
    "|     | PTS |\n",
    "------ | ------\n",
    "| Completed | 10|\n",
    "| Partially Completed | 5 |\n",
    "| Not Completed | 0 |\n",
    "\n",
    "---\n"
   ]
  },
  {
   "cell_type": "markdown",
   "metadata": {},
   "source": [
    "### Q1 (1 point): Create a **code chunk** below this prompt. In the **code chunk** enter:\n",
    "  \n",
    "```\n",
    "x = 2 + 2\n",
    "print(x)\n",
    "\n",
    "```"
   ]
  },
  {
   "cell_type": "markdown",
   "metadata": {},
   "source": [
    "### Q2 (1 point): Copy the `code` above and paste it into a **markdown chunk**."
   ]
  },
  {
   "cell_type": "markdown",
   "metadata": {},
   "source": [
    "### Q3 (2 points): List one difference between a code chunk and markdown chunk. Give an example of when you would use each."
   ]
  },
  {
   "cell_type": "markdown",
   "metadata": {},
   "source": [
    "### Q4 (1 point): Access the O'Reilly textbook 'xxx' that we will use as a resource for class [The first one in the Syllabus]. When was the last update for this e-book?"
   ]
  },
  {
   "cell_type": "markdown",
   "metadata": {},
   "source": [
    "### Q5 (1 point): Google how to format a weblink in markdown. Using the format, link the source you found. "
   ]
  },
  {
   "cell_type": "markdown",
   "metadata": {},
   "source": [
    "### Q6 (1 point): Find the python documentation online. Link the site using the appropiate format found in Q5.   \n",
    "### Now find a python cheatsheet and add the formatted link below. "
   ]
  },
  {
   "cell_type": "markdown",
   "metadata": {},
   "source": [
    "### Q7 (1 point): [Stack Overflow](https://stackoverflow.com/) is the one of the most popular webistes to find help for coding questions.   \n",
    "### Look up how Stackoverflow recommends formatting a question.   \n",
    "### List 2 recommendations below. "
   ]
  },
  {
   "cell_type": "markdown",
   "metadata": {},
   "source": [
    "### Q8 (1 point): Using [Google](https://google.com) search Stack Overflow for a list a python data types.   \n",
    "### *(Note: this is really something that should be found in the documentation not Stack Overflow).*   \n",
    "### Link the answer you found below. "
   ]
  },
  {
   "cell_type": "markdown",
   "metadata": {},
   "source": [
    "### Q9 (1 point): Submit your homework using file type `.ipynb` on Canvas. Format the file name per template. "
   ]
  },
  {
   "cell_type": "markdown",
   "metadata": {},
   "source": []
  }
 ],
 "metadata": {
  "kernelspec": {
   "display_name": "Python 3 (ipykernel)",
   "language": "python",
   "name": "python3"
  },
  "language_info": {
   "codemirror_mode": {
    "name": "ipython",
    "version": 3
   },
   "file_extension": ".py",
   "mimetype": "text/x-python",
   "name": "python",
   "nbconvert_exporter": "python",
   "pygments_lexer": "ipython3",
   "version": "3.9.16"
  },
  "vscode": {
   "interpreter": {
    "hash": "b0fa6594d8f4cbf19f97940f81e996739fb7646882a419484c72d19e05852a7e"
   }
  }
 },
 "nbformat": 4,
 "nbformat_minor": 4
}
