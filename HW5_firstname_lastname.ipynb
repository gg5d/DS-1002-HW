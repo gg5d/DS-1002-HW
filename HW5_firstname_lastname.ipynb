{
  "cells": [
    {
      "cell_type": "markdown",
      "metadata": {
        "id": "view-in-github",
        "colab_type": "text"
      },
      "source": [
        "<a href=\"https://colab.research.google.com/github/gg5d/DS-1002-HW/blob/main/HW5_firstname_lastname.ipynb\" target=\"_parent\"><img src=\"https://colab.research.google.com/assets/colab-badge.svg\" alt=\"Open In Colab\"/></a>"
      ]
    },
    {
      "cell_type": "markdown",
      "metadata": {
        "id": "fAGF4sxMmFS2"
      },
      "source": [
        "### Homework 5: Pandas I\n",
        "\n",
        "**Objective:**   \n",
        "\n",
        "To practice using pandas for data manipulation and analysis.\n",
        "\n",
        "**Directions:**  \n",
        "\n",
        "Use *pandas functions* to complete the tasks listed below.\n",
        "\n",
        "Clearly show relevant work.  \n",
        "\n",
        "You will need to refer to pandas documentation, web sources, etc (this is planned!)\n",
        "\n",
        "If you are having trouble, keep track (e.g., code comments or markdown) of what you tried or how you were logically thinking about the problem.\n",
        "\n",
        "**Submission:**\n",
        "\n",
        "Submit the html export of your Juypter Notebook to Canvas.\n",
        "\n",
        "TOTAL POINTS: 20\n",
        "\n",
        "---"
      ]
    },
    {
      "cell_type": "code",
      "execution_count": null,
      "metadata": {
        "id": "MeuRlquMmFS3"
      },
      "outputs": [],
      "source": [
        "# import pandas and seaborn"
      ]
    },
    {
      "cell_type": "code",
      "execution_count": null,
      "metadata": {
        "id": "CeEPDHSZmFS4"
      },
      "outputs": [],
      "source": [
        "taxis = sns.load_dataset('taxis')"
      ]
    },
    {
      "cell_type": "markdown",
      "metadata": {
        "id": "GXYyBFSEmFS4"
      },
      "source": [
        "---"
      ]
    },
    {
      "cell_type": "markdown",
      "metadata": {
        "id": "9oylzHaDmFS4"
      },
      "source": [
        "## Dataset Exploration  \n",
        "\n",
        "1. Explore the dataset using:\n",
        "* `.tail()`\n",
        "* `.info()`\n",
        "* `len()`\n",
        "* `.shape`\n",
        "* `.describe()`  \n",
        "\n",
        "After each code chunk insert a markdown chunk and describe what each of these is doing (1 sentence each)\n",
        "\n",
        "*10 points*\n"
      ]
    },
    {
      "cell_type": "code",
      "execution_count": null,
      "metadata": {
        "id": "79rSN2IsmFS5"
      },
      "outputs": [],
      "source": [
        "# .tail() code"
      ]
    },
    {
      "cell_type": "markdown",
      "metadata": {
        "id": "iO98NjcSmFS5"
      },
      "source": [
        "Describe the output of `.tail()` in this Markdown chunk."
      ]
    },
    {
      "cell_type": "code",
      "execution_count": null,
      "metadata": {
        "id": "jTQHejFQmFS5"
      },
      "outputs": [],
      "source": [
        "# .info() code"
      ]
    },
    {
      "cell_type": "markdown",
      "metadata": {
        "id": "XC_By9NRmFS5"
      },
      "source": [
        "Describe the output of `.info()` in this Markdown chunk."
      ]
    },
    {
      "cell_type": "code",
      "execution_count": null,
      "metadata": {
        "id": "SdXyIMEymFS6"
      },
      "outputs": [],
      "source": [
        "# .len() code"
      ]
    },
    {
      "cell_type": "markdown",
      "metadata": {
        "id": "W1c5twh-mFS6"
      },
      "source": [
        "Describe the output of `.len()` in this Markdown chunk."
      ]
    },
    {
      "cell_type": "code",
      "execution_count": null,
      "metadata": {
        "id": "EUZmoM35mFS6"
      },
      "outputs": [],
      "source": [
        "# .shape() code"
      ]
    },
    {
      "cell_type": "markdown",
      "metadata": {
        "id": "_GqA94zCmFS6"
      },
      "source": [
        "Describe the output of `.shape()` in this Markdown chunk."
      ]
    },
    {
      "cell_type": "code",
      "execution_count": null,
      "metadata": {
        "id": "UwHsebH1mFS6"
      },
      "outputs": [],
      "source": [
        "# .describe() code"
      ]
    },
    {
      "cell_type": "markdown",
      "metadata": {
        "id": "plE34liSmFS7"
      },
      "source": [
        "Describe the output of `.shape()` in this Markdown chunk."
      ]
    },
    {
      "cell_type": "markdown",
      "metadata": {
        "id": "PITVaMwImFS7"
      },
      "source": [
        "---\n",
        "\n",
        "## Data Subsetting & Analysis"
      ]
    },
    {
      "cell_type": "markdown",
      "metadata": {
        "id": "eY1Kd-DvmFS7"
      },
      "source": [
        "2. Answer the following the question using good subsetting techniques:\n",
        "* What is the difference in fare between rides with 1 passenger and rides with 2+ passengers for rides that took place exclusively in Manhattan?\n",
        "\n",
        "*5 points*"
      ]
    },
    {
      "cell_type": "code",
      "execution_count": null,
      "metadata": {
        "id": "muCrBIRAmFS7"
      },
      "outputs": [],
      "source": [
        "# subset needed columns\n",
        "\n",
        "\n",
        "# filter by borough\n",
        "\n"
      ]
    },
    {
      "cell_type": "code",
      "execution_count": null,
      "metadata": {
        "id": "-meIEZbNmFS7"
      },
      "outputs": [],
      "source": []
    },
    {
      "cell_type": "code",
      "execution_count": null,
      "metadata": {
        "id": "qObJmTqfmFS8"
      },
      "outputs": [],
      "source": [
        "# bin data on passengers\n",
        "# hint: create new column that specifies if there was 1 passenger or more than 1 passenger\n"
      ]
    },
    {
      "cell_type": "code",
      "execution_count": null,
      "metadata": {
        "id": "2vJyCAeYmFS8"
      },
      "outputs": [],
      "source": [
        "# calculate the mean for fares between the two different groups. Final output should be  in table format\n"
      ]
    },
    {
      "cell_type": "markdown",
      "metadata": {
        "id": "nwLy37YBmFS8"
      },
      "source": [
        "How much more did rides with 2 or more passengers pay in fare? Answer in this markdown chunk."
      ]
    },
    {
      "cell_type": "markdown",
      "metadata": {
        "id": "Ku4OT6wUmFS8"
      },
      "source": [
        "3. What is the average fare for rides paid in cash (round to the near 2 decimal places)?\n",
        "\n",
        "*2 points*"
      ]
    },
    {
      "cell_type": "code",
      "execution_count": null,
      "metadata": {
        "id": "CzacB8tFmFS9"
      },
      "outputs": [],
      "source": [
        "# subset needed columns\n",
        "\n",
        "# filter by payment type\n",
        "\n",
        "# calculate mean\n"
      ]
    },
    {
      "cell_type": "markdown",
      "metadata": {
        "id": "CLpow4m9mFS9"
      },
      "source": [
        "4. Tally the number of rides starting in each pick-up zone. Display the top five results.\n",
        "\n",
        "Note: do not use a for-loop\n",
        "\n",
        "*2 point*"
      ]
    },
    {
      "cell_type": "code",
      "execution_count": null,
      "metadata": {
        "id": "1H_GT43UmFS9"
      },
      "outputs": [],
      "source": []
    },
    {
      "cell_type": "markdown",
      "metadata": {
        "id": "bwYV3QpzmFS9"
      },
      "source": [
        "5. What percentage of rides did not tip?\n",
        "\n",
        "*1 points*"
      ]
    },
    {
      "cell_type": "code",
      "execution_count": null,
      "metadata": {
        "id": "lGLIxEFSmFS9"
      },
      "outputs": [],
      "source": [
        "# subset and calculate"
      ]
    }
  ],
  "metadata": {
    "kernelspec": {
      "display_name": "Python 3 (ipykernel)",
      "language": "python",
      "name": "python3"
    },
    "language_info": {
      "codemirror_mode": {
        "name": "ipython",
        "version": 3
      },
      "file_extension": ".py",
      "mimetype": "text/x-python",
      "name": "python",
      "nbconvert_exporter": "python",
      "pygments_lexer": "ipython3",
      "version": "3.9.16"
    },
    "vscode": {
      "interpreter": {
        "hash": "b0fa6594d8f4cbf19f97940f81e996739fb7646882a419484c72d19e05852a7e"
      }
    },
    "colab": {
      "provenance": [],
      "include_colab_link": true
    }
  },
  "nbformat": 4,
  "nbformat_minor": 0
}