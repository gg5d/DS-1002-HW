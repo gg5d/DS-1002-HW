{
  "cells": [
    {
      "cell_type": "markdown",
      "metadata": {
        "id": "view-in-github",
        "colab_type": "text"
      },
      "source": [
        "<a href=\"https://colab.research.google.com/github/gg5d/DS-1002-HW/blob/main/hw_04_first_last.ipynb\" target=\"_parent\"><img src=\"https://colab.research.google.com/assets/colab-badge.svg\" alt=\"Open In Colab\"/></a>"
      ]
    },
    {
      "cell_type": "markdown",
      "metadata": {
        "id": "Rli4cNz2ACUU"
      },
      "source": [
        "### HW4: NumPy\n",
        "\n",
        "OBJECTIVE:\n",
        "- Practice using `NumPy`.\n",
        "\n",
        "DIRECTIONS:\n",
        "- Use the Python package `NumPy` to answer the questions below.  \n",
        "- Clearly show relevant work.\n",
        "\n",
        "TOTAL POINTS: 10"
      ]
    },
    {
      "cell_type": "code",
      "execution_count": null,
      "metadata": {
        "id": "TSkng729ACUY"
      },
      "outputs": [],
      "source": [
        "# import dependencies"
      ]
    },
    {
      "cell_type": "markdown",
      "metadata": {
        "id": "k2ml3APFACUZ"
      },
      "source": [
        "1. (2 PT) Create a NumPy array containing the even numbers from 20 - 60. Assign this array to the variable `arr1`. Print the array."
      ]
    },
    {
      "cell_type": "code",
      "execution_count": null,
      "metadata": {
        "id": "xIcOatiRACUZ"
      },
      "outputs": [],
      "source": [
        "# CODE"
      ]
    },
    {
      "cell_type": "markdown",
      "metadata": {
        "id": "Xj2oCdbJACUa"
      },
      "source": [
        "2. (2 PT) Create two arrays of 10 numbers each. Then do an element-wise comparison (equal, equal within a tolerance) of two given arrays."
      ]
    },
    {
      "cell_type": "code",
      "execution_count": null,
      "metadata": {
        "id": "dgNqD6EYACUa"
      },
      "outputs": [],
      "source": [
        "# CODE"
      ]
    },
    {
      "cell_type": "markdown",
      "metadata": {
        "id": "rLdN_L_lACUa"
      },
      "source": [
        "3. (2 PT) Generate an array of 15 random numbers from a standard normal distribution.   \n",
        "Set a [random generator](https://numpy.org/doc/stable/reference/random/generator.html) of '123'."
      ]
    },
    {
      "cell_type": "code",
      "execution_count": null,
      "metadata": {
        "id": "OMbTx8XBACUa"
      },
      "outputs": [],
      "source": [
        "# CODE"
      ]
    },
    {
      "cell_type": "markdown",
      "metadata": {
        "id": "kwZdVSRoACUb"
      },
      "source": [
        "4. (1 PT) Create a 5 x 5 matrix filled with zeros."
      ]
    },
    {
      "cell_type": "code",
      "execution_count": null,
      "metadata": {
        "id": "MvG_9EVRACUb"
      },
      "outputs": [],
      "source": [
        "# CODE"
      ]
    },
    {
      "cell_type": "markdown",
      "metadata": {
        "id": "fVsaH7FcACUb"
      },
      "source": [
        "5. (1 PT) Create a 3-dimensional array filled with arbitrary values."
      ]
    },
    {
      "cell_type": "code",
      "execution_count": null,
      "metadata": {
        "id": "SeDd0R0GACUb"
      },
      "outputs": [],
      "source": [
        "# CODE"
      ]
    },
    {
      "cell_type": "markdown",
      "metadata": {
        "id": "sy0UFw--ACUc"
      },
      "source": [
        "6. (1 PT) Take your 3-dimensional array from above and flatten it."
      ]
    },
    {
      "cell_type": "code",
      "execution_count": null,
      "metadata": {
        "id": "n0S_hCkoACUc"
      },
      "outputs": [],
      "source": [
        "# CODE"
      ]
    },
    {
      "cell_type": "markdown",
      "metadata": {
        "id": "s6IuomNsACUc"
      },
      "source": [
        "7. (1 PT) Write the syntax to slice numbers 25, 46, 33, 17 from the array below."
      ]
    },
    {
      "cell_type": "code",
      "execution_count": null,
      "metadata": {
        "id": "YQVFMF6XACUd"
      },
      "outputs": [],
      "source": [
        "# ARRAY\n",
        "arr2 = np.array(([58, 45, 25, 46],\n",
        "                 [97, 55, 33, 17],\n",
        "                 [44, 78,  3, 27]))\n",
        "arr2"
      ]
    },
    {
      "cell_type": "code",
      "execution_count": null,
      "metadata": {
        "id": "A5MmhROBACUd"
      },
      "outputs": [],
      "source": [
        "# CODE\n"
      ]
    },
    {
      "cell_type": "markdown",
      "metadata": {
        "id": "8yrATA65ACUd"
      },
      "source": [
        "---"
      ]
    }
  ],
  "metadata": {
    "kernelspec": {
      "display_name": "Python 3 (ipykernel)",
      "language": "python",
      "name": "python3"
    },
    "language_info": {
      "codemirror_mode": {
        "name": "ipython",
        "version": 3
      },
      "file_extension": ".py",
      "mimetype": "text/x-python",
      "name": "python",
      "nbconvert_exporter": "python",
      "pygments_lexer": "ipython3",
      "version": "3.9.16"
    },
    "vscode": {
      "interpreter": {
        "hash": "31f2aee4e71d21fbe5cf8b01ff0e069b9275f58929596ceb00d14d90e3e16cd6"
      }
    },
    "colab": {
      "provenance": [],
      "include_colab_link": true
    }
  },
  "nbformat": 4,
  "nbformat_minor": 0
}